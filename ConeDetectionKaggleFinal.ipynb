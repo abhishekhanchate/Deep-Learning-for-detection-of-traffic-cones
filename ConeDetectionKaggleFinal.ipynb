{
  "nbformat": 4,
  "nbformat_minor": 0,
  "metadata": {
    "colab": {
      "name": "ConeDetectionFinal.ipynb",
      "provenance": []
    },
    "kernelspec": {
      "name": "python3",
      "display_name": "Python 3"
    }
  },
  "cells": [
    {
      "cell_type": "code",
      "metadata": {
        "id": "Tgrzq-E6mHJX",
        "colab_type": "code",
        "colab": {
          "base_uri": "https://localhost:8080/",
          "height": 120
        },
        "outputId": "92e77a95-ec66-4ca0-887f-48aee8610d26"
      },
      "source": [
        "from google.colab import drive\n",
        "drive.mount('/content/drive')"
      ],
      "execution_count": 1,
      "outputs": [
        {
          "output_type": "stream",
          "text": [
            "Go to this URL in a browser: https://accounts.google.com/o/oauth2/auth?client_id=947318989803-6bn6qk8qdgf4n4g3pfee6491hc0brc4i.apps.googleusercontent.com&redirect_uri=urn%3Aietf%3Awg%3Aoauth%3A2.0%3Aoob&scope=email%20https%3A%2F%2Fwww.googleapis.com%2Fauth%2Fdocs.test%20https%3A%2F%2Fwww.googleapis.com%2Fauth%2Fdrive%20https%3A%2F%2Fwww.googleapis.com%2Fauth%2Fdrive.photos.readonly%20https%3A%2F%2Fwww.googleapis.com%2Fauth%2Fpeopleapi.readonly&response_type=code\n",
            "\n",
            "Enter your authorization code:\n",
            "··········\n",
            "Mounted at /content/drive\n"
          ],
          "name": "stdout"
        }
      ]
    },
    {
      "cell_type": "code",
      "metadata": {
        "id": "rMy6MYjGmTKo",
        "colab_type": "code",
        "colab": {}
      },
      "source": [
        "import io\n",
        "from google.colab import files\n",
        "\n",
        "datapath = '/content/drive/My Drive/'"
      ],
      "execution_count": 0,
      "outputs": []
    },
    {
      "cell_type": "code",
      "metadata": {
        "id": "cnUnwsVomTPX",
        "colab_type": "code",
        "colab": {}
      },
      "source": [
        "import numpy as np\n",
        "import pandas as pd\n",
        "from imageio import imread\n",
        "from skimage.transform import resize\n",
        "import os\n",
        "\n",
        "df1 = pd.read_csv(datapath + 'training.csv')\n",
        "df2 = pd.read_csv(datapath + 'testing.csv')"
      ],
      "execution_count": 0,
      "outputs": []
    },
    {
      "cell_type": "code",
      "metadata": {
        "id": "J6PjXiNfmTVI",
        "colab_type": "code",
        "colab": {}
      },
      "source": [
        "train = df1\n",
        "\n",
        "newidTrain = [str(i) for i in train['Id']]\n",
        "width, height = 512,512\n",
        "file = os.listdir()\n",
        "\n",
        "training_images = [imread(datapath + 'Images/Images/Training/' + j) for j in newidTrain]\n",
        "resized = [resize(i, (width, height)) for i in training_images]\n",
        "training_images = np.array(resized)"
      ],
      "execution_count": 0,
      "outputs": []
    },
    {
      "cell_type": "code",
      "metadata": {
        "id": "wRD4oPb7mTYY",
        "colab_type": "code",
        "colab": {}
      },
      "source": [
        "test = df2\n",
        "\n",
        "newidTest = [str(i) for i in test['Id']]\n",
        "width, height = 512,512\n",
        "file = os.listdir()\n",
        "\n",
        "testing_images = [imread(datapath + 'Images/Images/Testing/' + j) for j in newidTest]\n",
        "resized = [resize(i, (width, height)) for i in testing_images]\n",
        "testing_images = np.array(resized)"
      ],
      "execution_count": 0,
      "outputs": []
    },
    {
      "cell_type": "code",
      "metadata": {
        "id": "Lh2G6ECfmTJ5",
        "colab_type": "code",
        "colab": {
          "base_uri": "https://localhost:8080/",
          "height": 33
        },
        "outputId": "be3aea65-5560-4871-f3f0-fe53da95de12"
      },
      "source": [
        "import tensorflow as tf\n",
        "import numpy as np\n",
        "\n",
        "from keras import regularizers\n",
        "from keras.models import Sequential\n",
        "from keras.layers import Dense\n",
        "from keras.utils import to_categorical\n",
        "from keras.datasets import mnist\n",
        "import matplotlib.pyplot as plt\n",
        "import pandas as pd\n",
        "from tensorflow.keras import datasets, layers, models\n",
        "from sklearn.model_selection import train_test_split"
      ],
      "execution_count": 7,
      "outputs": [
        {
          "output_type": "stream",
          "text": [
            "Using TensorFlow backend.\n"
          ],
          "name": "stderr"
        }
      ]
    },
    {
      "cell_type": "code",
      "metadata": {
        "id": "qI-ZyZtPniyU",
        "colab_type": "code",
        "colab": {}
      },
      "source": [
        "#x_train = training_newimages\n",
        "x_train = training_images\n",
        "\n",
        "y_train = train[\"Category\"]\n",
        "y_train = np.array(y_train)\n",
        "\n",
        "#x_test = testing_newimages\n",
        "x_test = testing_images"
      ],
      "execution_count": 0,
      "outputs": []
    },
    {
      "cell_type": "code",
      "metadata": {
        "id": "sTm01Z3gni1v",
        "colab_type": "code",
        "colab": {}
      },
      "source": [
        "model = tf.keras.models.load_model(datapath + 'driveattempt1.model')"
      ],
      "execution_count": 0,
      "outputs": []
    },
    {
      "cell_type": "code",
      "metadata": {
        "id": "_BhAznr0ni29",
        "colab_type": "code",
        "colab": {
          "base_uri": "https://localhost:8080/",
          "height": 1000
        },
        "outputId": "d9cb1858-b420-43ce-be93-c47e572e5996"
      },
      "source": [
        "predictions = model.predict(x_test)\n",
        "print(predictions)"
      ],
      "execution_count": 17,
      "outputs": [
        {
          "output_type": "stream",
          "text": [
            "[[0.2672274 ]\n",
            " [0.2672274 ]\n",
            " [0.9998784 ]\n",
            " [0.2672274 ]\n",
            " [1.        ]\n",
            " [0.2672274 ]\n",
            " [0.920756  ]\n",
            " [0.99999976]\n",
            " [0.2672274 ]\n",
            " [0.99229157]\n",
            " [0.2672274 ]\n",
            " [0.45282474]\n",
            " [0.26547313]\n",
            " [0.5171129 ]\n",
            " [0.2672274 ]\n",
            " [1.        ]\n",
            " [0.2672274 ]\n",
            " [0.5289159 ]\n",
            " [1.        ]\n",
            " [0.61813855]\n",
            " [1.        ]\n",
            " [0.6143214 ]\n",
            " [0.2672274 ]\n",
            " [0.88133633]\n",
            " [0.99927896]\n",
            " [0.2672274 ]\n",
            " [0.27466607]\n",
            " [1.        ]\n",
            " [0.2672274 ]\n",
            " [0.9997611 ]\n",
            " [0.2673811 ]\n",
            " [0.26722738]\n",
            " [0.93487656]\n",
            " [0.27036318]\n",
            " [0.2672274 ]\n",
            " [0.9431703 ]\n",
            " [1.        ]\n",
            " [0.876104  ]\n",
            " [0.2672274 ]\n",
            " [0.31294763]\n",
            " [0.95861   ]\n",
            " [0.99978215]\n",
            " [0.89487195]\n",
            " [0.2672274 ]\n",
            " [0.61015904]\n",
            " [0.75934064]\n",
            " [0.99998116]\n",
            " [1.        ]\n",
            " [0.9912325 ]\n",
            " [0.9986006 ]\n",
            " [0.2672274 ]\n",
            " [0.26708424]\n",
            " [0.99999976]\n",
            " [0.2672274 ]\n",
            " [0.30830216]\n",
            " [0.2672274 ]\n",
            " [0.2672274 ]\n",
            " [0.79898894]\n",
            " [0.2672069 ]\n",
            " [1.        ]\n",
            " [0.2672274 ]\n",
            " [0.26694107]\n",
            " [0.9989134 ]\n",
            " [0.2672274 ]\n",
            " [0.5965971 ]\n",
            " [0.2672274 ]\n",
            " [0.5296304 ]\n",
            " [0.2672274 ]\n",
            " [0.97341716]\n",
            " [0.99943113]\n",
            " [0.9963266 ]\n",
            " [0.42472064]\n",
            " [0.26712203]\n",
            " [0.951743  ]\n",
            " [0.2672274 ]\n",
            " [0.94959736]\n",
            " [0.2672274 ]\n",
            " [1.        ]\n",
            " [0.8784275 ]\n",
            " [0.98438394]\n",
            " [0.99995553]\n",
            " [0.9879745 ]\n",
            " [0.2672274 ]\n",
            " [0.26998824]\n",
            " [0.9999989 ]\n",
            " [0.9999473 ]\n",
            " [0.28564587]\n",
            " [0.2672274 ]\n",
            " [0.2672274 ]\n",
            " [0.2672274 ]\n",
            " [0.9818238 ]\n",
            " [0.2672274 ]\n",
            " [0.9977006 ]\n",
            " [0.9796678 ]\n",
            " [0.2672274 ]\n",
            " [0.9999698 ]\n",
            " [0.2672274 ]\n",
            " [1.        ]]\n"
          ],
          "name": "stdout"
        }
      ]
    },
    {
      "cell_type": "code",
      "metadata": {
        "id": "7eqA8lNZni-b",
        "colab_type": "code",
        "colab": {}
      },
      "source": [
        "pred = np.around(predictions)"
      ],
      "execution_count": 0,
      "outputs": []
    },
    {
      "cell_type": "code",
      "metadata": {
        "id": "0D4YXwl_oPf8",
        "colab_type": "code",
        "colab": {
          "base_uri": "https://localhost:8080/",
          "height": 1000
        },
        "outputId": "7a0f305b-4b9c-4443-c52c-e6ac558e5016"
      },
      "source": [
        "print(pred)"
      ],
      "execution_count": 19,
      "outputs": [
        {
          "output_type": "stream",
          "text": [
            "[[0.]\n",
            " [0.]\n",
            " [1.]\n",
            " [0.]\n",
            " [1.]\n",
            " [0.]\n",
            " [1.]\n",
            " [1.]\n",
            " [0.]\n",
            " [1.]\n",
            " [0.]\n",
            " [0.]\n",
            " [0.]\n",
            " [1.]\n",
            " [0.]\n",
            " [1.]\n",
            " [0.]\n",
            " [1.]\n",
            " [1.]\n",
            " [1.]\n",
            " [1.]\n",
            " [1.]\n",
            " [0.]\n",
            " [1.]\n",
            " [1.]\n",
            " [0.]\n",
            " [0.]\n",
            " [1.]\n",
            " [0.]\n",
            " [1.]\n",
            " [0.]\n",
            " [0.]\n",
            " [1.]\n",
            " [0.]\n",
            " [0.]\n",
            " [1.]\n",
            " [1.]\n",
            " [1.]\n",
            " [0.]\n",
            " [0.]\n",
            " [1.]\n",
            " [1.]\n",
            " [1.]\n",
            " [0.]\n",
            " [1.]\n",
            " [1.]\n",
            " [1.]\n",
            " [1.]\n",
            " [1.]\n",
            " [1.]\n",
            " [0.]\n",
            " [0.]\n",
            " [1.]\n",
            " [0.]\n",
            " [0.]\n",
            " [0.]\n",
            " [0.]\n",
            " [1.]\n",
            " [0.]\n",
            " [1.]\n",
            " [0.]\n",
            " [0.]\n",
            " [1.]\n",
            " [0.]\n",
            " [1.]\n",
            " [0.]\n",
            " [1.]\n",
            " [0.]\n",
            " [1.]\n",
            " [1.]\n",
            " [1.]\n",
            " [0.]\n",
            " [0.]\n",
            " [1.]\n",
            " [0.]\n",
            " [1.]\n",
            " [0.]\n",
            " [1.]\n",
            " [1.]\n",
            " [1.]\n",
            " [1.]\n",
            " [1.]\n",
            " [0.]\n",
            " [0.]\n",
            " [1.]\n",
            " [1.]\n",
            " [0.]\n",
            " [0.]\n",
            " [0.]\n",
            " [0.]\n",
            " [1.]\n",
            " [0.]\n",
            " [1.]\n",
            " [1.]\n",
            " [0.]\n",
            " [1.]\n",
            " [0.]\n",
            " [1.]]\n"
          ],
          "name": "stdout"
        }
      ]
    },
    {
      "cell_type": "code",
      "metadata": {
        "id": "EVaFjDSioQAH",
        "colab_type": "code",
        "colab": {}
      },
      "source": [
        "df_solution = pd.read_csv(datapath + 'sample.csv')"
      ],
      "execution_count": 0,
      "outputs": []
    },
    {
      "cell_type": "code",
      "metadata": {
        "id": "pz26H7wToQEk",
        "colab_type": "code",
        "colab": {}
      },
      "source": [
        "df_solution['Category'] = pred\n",
        "df_solution.to_csv(datapath + 'abhi_drive_solF1.csv', index = False)"
      ],
      "execution_count": 0,
      "outputs": []
    },
    {
      "cell_type": "code",
      "metadata": {
        "id": "q_NF5VpfoQH3",
        "colab_type": "code",
        "colab": {
          "base_uri": "https://localhost:8080/",
          "height": 1000
        },
        "outputId": "ef3bd5b3-33b4-4ba6-dda2-e0f1cbe60233"
      },
      "source": [
        "model.get_config()"
      ],
      "execution_count": 22,
      "outputs": [
        {
          "output_type": "execute_result",
          "data": {
            "text/plain": [
              "{'layers': [{'class_name': 'Conv2D',\n",
              "   'config': {'activation': 'relu',\n",
              "    'activity_regularizer': None,\n",
              "    'batch_input_shape': (None, 512, 512, 3),\n",
              "    'bias_constraint': None,\n",
              "    'bias_initializer': {'class_name': 'Zeros',\n",
              "     'config': {'dtype': 'float32'}},\n",
              "    'bias_regularizer': None,\n",
              "    'data_format': 'channels_last',\n",
              "    'dilation_rate': (1, 1),\n",
              "    'dtype': 'float32',\n",
              "    'filters': 32,\n",
              "    'kernel_constraint': None,\n",
              "    'kernel_initializer': {'class_name': 'GlorotUniform',\n",
              "     'config': {'dtype': 'float32', 'seed': None}},\n",
              "    'kernel_regularizer': None,\n",
              "    'kernel_size': (5, 5),\n",
              "    'name': 'conv2d',\n",
              "    'padding': 'valid',\n",
              "    'strides': (1, 1),\n",
              "    'trainable': True,\n",
              "    'use_bias': True}},\n",
              "  {'class_name': 'MaxPooling2D',\n",
              "   'config': {'data_format': 'channels_last',\n",
              "    'dtype': 'float32',\n",
              "    'name': 'max_pooling2d',\n",
              "    'padding': 'valid',\n",
              "    'pool_size': (2, 2),\n",
              "    'strides': (2, 2),\n",
              "    'trainable': True}},\n",
              "  {'class_name': 'Conv2D',\n",
              "   'config': {'activation': 'relu',\n",
              "    'activity_regularizer': None,\n",
              "    'batch_input_shape': (None, 512, 512, 3),\n",
              "    'bias_constraint': None,\n",
              "    'bias_initializer': {'class_name': 'Zeros',\n",
              "     'config': {'dtype': 'float32'}},\n",
              "    'bias_regularizer': None,\n",
              "    'data_format': 'channels_last',\n",
              "    'dilation_rate': (1, 1),\n",
              "    'dtype': 'float32',\n",
              "    'filters': 64,\n",
              "    'kernel_constraint': None,\n",
              "    'kernel_initializer': {'class_name': 'GlorotUniform',\n",
              "     'config': {'dtype': 'float32', 'seed': None}},\n",
              "    'kernel_regularizer': None,\n",
              "    'kernel_size': (5, 5),\n",
              "    'name': 'conv2d_1',\n",
              "    'padding': 'valid',\n",
              "    'strides': (1, 1),\n",
              "    'trainable': True,\n",
              "    'use_bias': True}},\n",
              "  {'class_name': 'MaxPooling2D',\n",
              "   'config': {'data_format': 'channels_last',\n",
              "    'dtype': 'float32',\n",
              "    'name': 'max_pooling2d_1',\n",
              "    'padding': 'valid',\n",
              "    'pool_size': (2, 2),\n",
              "    'strides': (2, 2),\n",
              "    'trainable': True}},\n",
              "  {'class_name': 'Flatten',\n",
              "   'config': {'data_format': 'channels_last',\n",
              "    'dtype': 'float32',\n",
              "    'name': 'flatten',\n",
              "    'trainable': True}},\n",
              "  {'class_name': 'Dense',\n",
              "   'config': {'activation': 'relu',\n",
              "    'activity_regularizer': None,\n",
              "    'batch_input_shape': (None, 512, 512, 3),\n",
              "    'bias_constraint': None,\n",
              "    'bias_initializer': {'class_name': 'Zeros',\n",
              "     'config': {'dtype': 'float32'}},\n",
              "    'bias_regularizer': None,\n",
              "    'dtype': 'float32',\n",
              "    'kernel_constraint': None,\n",
              "    'kernel_initializer': {'class_name': 'GlorotUniform',\n",
              "     'config': {'dtype': 'float32', 'seed': None}},\n",
              "    'kernel_regularizer': {'class_name': 'L1L2',\n",
              "     'config': {'l1': 0.0, 'l2': 0.009999999776482582}},\n",
              "    'name': 'dense',\n",
              "    'trainable': True,\n",
              "    'units': 128,\n",
              "    'use_bias': True}},\n",
              "  {'class_name': 'Dense',\n",
              "   'config': {'activation': 'relu',\n",
              "    'activity_regularizer': None,\n",
              "    'bias_constraint': None,\n",
              "    'bias_initializer': {'class_name': 'Zeros',\n",
              "     'config': {'dtype': 'float32'}},\n",
              "    'bias_regularizer': None,\n",
              "    'dtype': 'float32',\n",
              "    'kernel_constraint': None,\n",
              "    'kernel_initializer': {'class_name': 'GlorotUniform',\n",
              "     'config': {'dtype': 'float32', 'seed': None}},\n",
              "    'kernel_regularizer': None,\n",
              "    'name': 'dense_1',\n",
              "    'trainable': True,\n",
              "    'units': 128,\n",
              "    'use_bias': True}},\n",
              "  {'class_name': 'Dense',\n",
              "   'config': {'activation': 'sigmoid',\n",
              "    'activity_regularizer': None,\n",
              "    'bias_constraint': None,\n",
              "    'bias_initializer': {'class_name': 'Zeros',\n",
              "     'config': {'dtype': 'float32'}},\n",
              "    'bias_regularizer': None,\n",
              "    'dtype': 'float32',\n",
              "    'kernel_constraint': None,\n",
              "    'kernel_initializer': {'class_name': 'GlorotUniform',\n",
              "     'config': {'dtype': 'float32', 'seed': None}},\n",
              "    'kernel_regularizer': None,\n",
              "    'name': 'dense_2',\n",
              "    'trainable': True,\n",
              "    'units': 1,\n",
              "    'use_bias': True}}],\n",
              " 'name': 'sequential'}"
            ]
          },
          "metadata": {
            "tags": []
          },
          "execution_count": 22
        }
      ]
    },
    {
      "cell_type": "code",
      "metadata": {
        "id": "nAGheiUotV6E",
        "colab_type": "code",
        "colab": {
          "base_uri": "https://localhost:8080/",
          "height": 418
        },
        "outputId": "e96320e4-c913-499a-e552-ca07b8e89447"
      },
      "source": [
        "model.summary()"
      ],
      "execution_count": 23,
      "outputs": [
        {
          "output_type": "stream",
          "text": [
            "Model: \"sequential\"\n",
            "_________________________________________________________________\n",
            "Layer (type)                 Output Shape              Param #   \n",
            "=================================================================\n",
            "conv2d (Conv2D)              (None, 508, 508, 32)      2432      \n",
            "_________________________________________________________________\n",
            "max_pooling2d (MaxPooling2D) (None, 254, 254, 32)      0         \n",
            "_________________________________________________________________\n",
            "conv2d_1 (Conv2D)            (None, 250, 250, 64)      51264     \n",
            "_________________________________________________________________\n",
            "max_pooling2d_1 (MaxPooling2 (None, 125, 125, 64)      0         \n",
            "_________________________________________________________________\n",
            "flatten (Flatten)            (None, 1000000)           0         \n",
            "_________________________________________________________________\n",
            "dense (Dense)                (None, 128)               128000128 \n",
            "_________________________________________________________________\n",
            "dense_1 (Dense)              (None, 128)               16512     \n",
            "_________________________________________________________________\n",
            "dense_2 (Dense)              (None, 1)                 129       \n",
            "=================================================================\n",
            "Total params: 128,070,465\n",
            "Trainable params: 128,070,465\n",
            "Non-trainable params: 0\n",
            "_________________________________________________________________\n"
          ],
          "name": "stdout"
        }
      ]
    }
  ]
}